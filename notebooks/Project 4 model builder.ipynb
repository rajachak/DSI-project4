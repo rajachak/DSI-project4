{
 "cells": [
  {
   "cell_type": "markdown",
   "metadata": {},
   "source": [
    "# Project 4 - Predictive model"
   ]
  },
  {
   "cell_type": "markdown",
   "metadata": {},
   "source": [
    "## 1. Load Data"
   ]
  },
  {
   "cell_type": "code",
   "execution_count": 744,
   "metadata": {},
   "outputs": [],
   "source": [
    "import pandas as pd\n",
    "import numpy as np\n",
    "from sklearn.model_selection import train_test_split\n",
    "from sklearn.model_selection import KFold, cross_val_score, cross_val_predict\n",
    "from sklearn import metrics\n",
    "from sklearn.ensemble import RandomForestClassifier\n",
    "from sklearn.ensemble import AdaBoostClassifier\n",
    "from sklearn.ensemble import GradientBoostingClassifier\n",
    "from sklearn.preprocessing import StandardScaler\n",
    "from keras.models import Sequential\n",
    "from keras.layers import Dense\n",
    "from keras.optimizers import Adam\n",
    "from keras.layers import Dropout\n",
    "import csv\n",
    "import matplotlib.pyplot as plt\n",
    "%matplotlib inline\n",
    "%config InlineBackend.figure_format = 'retina'"
   ]
  },
  {
   "cell_type": "code",
   "execution_count": 723,
   "metadata": {},
   "outputs": [
    {
     "name": "stdout",
     "output_type": "stream",
     "text": [
      "(10506, 33) (116293, 32)\n"
     ]
    }
   ],
   "source": [
    "#load data\n",
    "train = pd.read_csv('train.csv')\n",
    "test = pd.read_csv('test.csv')\n",
    "weather = pd.read_csv('weather.csv')\n",
    "spray = pd.read_csv('spray.csv')\n",
    "#merge data (only using station 1 so as not to double the data)\n",
    "trw = train.merge(weather[weather['Station']==1], how='left', on='Date')\n",
    "tsw = test.merge(weather[weather['Station']==1], how='left', on='Date')\n",
    "print(trw.shape, tsw.shape)"
   ]
  },
  {
   "cell_type": "code",
   "execution_count": 398,
   "metadata": {},
   "outputs": [
    {
     "data": {
      "text/plain": [
       "Index(['Id', 'Date', 'Address', 'Species', 'Block', 'Street', 'Trap',\n",
       "       'AddressNumberAndStreet', 'Latitude', 'Longitude', 'AddressAccuracy',\n",
       "       'Station', 'Tmax', 'Tmin', 'Tavg', 'Depart', 'DewPoint', 'WetBulb',\n",
       "       'Heat', 'Cool', 'Sunrise', 'Sunset', 'CodeSum', 'Depth', 'Water1',\n",
       "       'SnowFall', 'PrecipTotal', 'StnPressure', 'SeaLevel', 'ResultSpeed',\n",
       "       'ResultDir', 'AvgSpeed'],\n",
       "      dtype='object')"
      ]
     },
     "execution_count": 398,
     "metadata": {},
     "output_type": "execute_result"
    }
   ],
   "source": [
    "tsw.columns"
   ]
  },
  {
   "cell_type": "code",
   "execution_count": 656,
   "metadata": {},
   "outputs": [
    {
     "name": "stdout",
     "output_type": "stream",
     "text": [
      "(10506, 33) (116293, 32)\n"
     ]
    }
   ],
   "source": [
    "print(trw.shape, tsw.shape)"
   ]
  },
  {
   "cell_type": "code",
   "execution_count": 256,
   "metadata": {},
   "outputs": [
    {
     "data": {
      "text/plain": [
       "(551, 33)"
      ]
     },
     "execution_count": 256,
     "metadata": {},
     "output_type": "execute_result"
    }
   ],
   "source": [
    "#calculate baseline\n",
    "trw[trw.WnvPresent == 1].shape"
   ]
  },
  {
   "cell_type": "markdown",
   "metadata": {
    "collapsed": true
   },
   "source": [
    "## 2. Feature Engineering"
   ]
  },
  {
   "cell_type": "markdown",
   "metadata": {},
   "source": [
    "These features didn't improve predictive scores, and were not used in the final model:"
   ]
  },
  {
   "cell_type": "code",
   "execution_count": 624,
   "metadata": {
    "collapsed": true
   },
   "outputs": [],
   "source": [
    "#unsued features (random forest crossval score didn't improve):\n",
    "#\n",
    "# Xtr['Lat1'] = trw.Latitude.round(1)\n",
    "# Xts['Lat1'] = tsw.Latitude.round(1)\n",
    "\n",
    "# Xtr['Long1'] = trw.Longitude.round(1)\n",
    "# Xts['Long1'] = tsw.Longitude.round(1)\n",
    "\n",
    "# Xtr['DewPoint'] = trw.DewPoint\n",
    "# Xts['DewPoint'] = tsw.DewPoint\n",
    "\n",
    "# Xtr['StnPressure'] = trw['StnPressure']\n",
    "# ytr = ytr.drop(Xtr[Xtr['StnPressure']=='M'].index)\n",
    "# Xtr = Xtr.drop(Xtr[Xtr['StnPressure']=='M'].index)\n",
    "# Xtr['StnPressure'] = Xtr['StnPressure'].astype(float)\n",
    "# Xts['StnPressure'] = tsw['StnPressure'].astype(float)\n",
    "# #\n",
    "# Xtr['AvgSpeed'] = trw['AvgSpeed'].astype(float)\n",
    "# Xts['AvgSpeed'] = tsw['AvgSpeed'].astype(float)\n",
    "#\n",
    "#Xtr['PrecipTotal']= trw.PrecipTotal.apply(lambda x: 0.1 if x == 'T' else x)\n",
    "#Xts['PrecipTotal']= tsw.PrecipTotal.apply(lambda x: 0.1 if x == 'T' else x)"
   ]
  },
  {
   "cell_type": "markdown",
   "metadata": {},
   "source": [
    "These were the final features:"
   ]
  },
  {
   "cell_type": "code",
   "execution_count": 725,
   "metadata": {},
   "outputs": [],
   "source": [
    "#get dummy variables for only for mosquito species that have Wnv \n",
    "tsw_species = pd.get_dummies(tsw['Species'])[['CULEX PIPIENS/RESTUANS','CULEX PIPIENS','CULEX RESTUANS']]\n",
    "trw_species = pd.get_dummies(trw['Species'])[['CULEX PIPIENS/RESTUANS','CULEX PIPIENS','CULEX RESTUANS']]"
   ]
  },
  {
   "cell_type": "code",
   "execution_count": 747,
   "metadata": {},
   "outputs": [
    {
     "name": "stdout",
     "output_type": "stream",
     "text": [
      "(10506,)\n",
      "(10506, 2) (10506,)\n",
      "(10413, 9) (10413,)\n",
      "(116293, 9)\n"
     ]
    }
   ],
   "source": [
    "ytr = trw.WnvPresent\n",
    "print(ytr.shape)\n",
    "#Build X \n",
    "Xtr = pd.DataFrame()\n",
    "Xts = pd.DataFrame()\n",
    "#\n",
    "Xtr['Latitude'] = trw.Latitude\n",
    "Xts['Latitude'] = tsw.Latitude\n",
    "Xtr['Longitude'] = trw.Longitude\n",
    "Xts['Longitude'] = tsw.Longitude\n",
    "#\n",
    "print(Xtr.shape, ytr.shape)\n",
    "Xtr['Tmax'] = trw.Tmax.astype(float)\n",
    "Xts['Tmax'] = tsw.Tmax.astype(float)\n",
    "#\n",
    "Xtr['CULEX PIPIENS/RESTUANS'] = trw_species['CULEX PIPIENS/RESTUANS']\n",
    "Xts['CULEX PIPIENS/RESTUANS'] = tsw_species['CULEX PIPIENS/RESTUANS']\n",
    "Xtr['CULEX PIPIENS'] = trw_species['CULEX PIPIENS']\n",
    "Xts['CULEX PIPIENS'] = tsw_species['CULEX PIPIENS']\n",
    "Xtr['CULEX RESTUANS'] = trw_species['CULEX RESTUANS']\n",
    "Xts['CULEX RESTUANS'] = tsw_species['CULEX RESTUANS']\n",
    "#\n",
    "Xtr['DayOfYear'] = pd.to_datetime(trw['Date'], format='%Y-%m-%d').dt.dayofyear\n",
    "Xts['DayOfYear'] = pd.to_datetime(tsw['Date'], format='%Y-%m-%d').dt.dayofyear\n",
    "#\n",
    "Xtr['WetBulb'] = trw.WetBulb\n",
    "ytr = ytr.drop(Xtr[Xtr['WetBulb']=='M'].index)\n",
    "Xtr = Xtr.drop(Xtr[Xtr['WetBulb']=='M'].index)\n",
    "Xtr['WetBulb'] = Xtr['WetBulb'].astype(float)\n",
    "Xts['WetBulb'] = tsw.WetBulb.astype(float)                   #didn't have any 'M values\n",
    "#\n",
    "Xtr['Tmin'] = trw['Tmin'].astype(float)\n",
    "Xts['Tmin'] = tsw['Tmin'].astype(float)\n",
    "\n",
    "\n",
    "print(Xtr.shape, ytr.shape)\n",
    "print(Xts.shape)"
   ]
  },
  {
   "cell_type": "code",
   "execution_count": 473,
   "metadata": {},
   "outputs": [],
   "source": [
    "#check dtypes\n",
    "#print(Xtr.dtypes)\n",
    "#print(ytr.dtypes)"
   ]
  },
  {
   "cell_type": "code",
   "execution_count": 474,
   "metadata": {},
   "outputs": [],
   "source": [
    "#check for nulls\n",
    "#print(Xtr.isnull().sum())\n",
    "#print(Xts.isnull().sum())"
   ]
  },
  {
   "cell_type": "markdown",
   "metadata": {},
   "source": [
    "We tried oversampling the WnvPresent observations, but it didn't make any difference"
   ]
  },
  {
   "cell_type": "code",
   "execution_count": 715,
   "metadata": {
    "collapsed": true
   },
   "outputs": [],
   "source": [
    "#since classes are unbalanced, oversample WnvPresent = 1\n",
    "#trw = trw.append(trw[trw.WnvPresent==1])   #didn't make any difference"
   ]
  },
  {
   "cell_type": "markdown",
   "metadata": {
    "collapsed": true
   },
   "source": [
    "# 3. Build Models"
   ]
  },
  {
   "cell_type": "markdown",
   "metadata": {},
   "source": [
    "Each of these models were gird searched manually to find the best hyper-parameters, then the best scoring output were submitted to Kaggle"
   ]
  },
  {
   "cell_type": "code",
   "execution_count": null,
   "metadata": {
    "collapsed": true
   },
   "outputs": [],
   "source": [
    "###############Sklearn models"
   ]
  },
  {
   "cell_type": "markdown",
   "metadata": {},
   "source": [
    "### 3.1 AdaBoost"
   ]
  },
  {
   "cell_type": "code",
   "execution_count": 752,
   "metadata": {},
   "outputs": [
    {
     "name": "stdout",
     "output_type": "stream",
     "text": [
      "[0.8485023  0.94698934 0.68184438]\n",
      "0.8257786749328969\n"
     ]
    }
   ],
   "source": [
    "####### ADABoost model\n",
    "model = AdaBoostClassifier(n_estimators=100) \n",
    "scores = cross_val_score(model, Xtr, ytr, cv=3)\n",
    "print(scores)\n",
    "print(np.mean(scores))"
   ]
  },
  {
   "cell_type": "markdown",
   "metadata": {},
   "source": [
    "### 3.2 Random Forest"
   ]
  },
  {
   "cell_type": "code",
   "execution_count": 751,
   "metadata": {},
   "outputs": [
    {
     "name": "stdout",
     "output_type": "stream",
     "text": [
      "[0.7390553  0.94641314 0.45590778]\n",
      "0.7137920726477903\n"
     ]
    }
   ],
   "source": [
    "#######RANDOM FOREST model\n",
    "model = RandomForestClassifier(max_features = 6, max_depth = 20) \n",
    "scores = cross_val_score(model, Xtr, ytr, cv=3)\n",
    "print(scores)\n",
    "print(np.mean(scores))"
   ]
  },
  {
   "cell_type": "markdown",
   "metadata": {},
   "source": [
    "### 3.3 Gradient Boosting"
   ]
  },
  {
   "cell_type": "code",
   "execution_count": 735,
   "metadata": {},
   "outputs": [
    {
     "name": "stdout",
     "output_type": "stream",
     "text": [
      "[0.58006912 0.94237972 0.44553314]\n",
      "0.6559939944316514\n"
     ]
    }
   ],
   "source": [
    "#######GRADIENT BOOSTING model\n",
    "model = GradientBoostingClassifier(max_features = 6, max_depth = 100) \n",
    "scores = cross_val_score(model, Xtr, ytr, cv=3)\n",
    "print(scores)\n",
    "print(np.mean(scores))"
   ]
  },
  {
   "cell_type": "markdown",
   "metadata": {},
   "source": [
    "Re-fit the best performing model (AdaBoost)"
   ]
  },
  {
   "cell_type": "code",
   "execution_count": 753,
   "metadata": {},
   "outputs": [
    {
     "data": {
      "text/plain": [
       "0.9470853740516662"
      ]
     },
     "execution_count": 753,
     "metadata": {},
     "output_type": "execute_result"
    }
   ],
   "source": [
    "#fit against full training set (printed below are AdaBoost results)\n",
    "model.fit(Xtr,ytr)\n",
    "model.score(Xtr,ytr)"
   ]
  },
  {
   "cell_type": "code",
   "execution_count": 754,
   "metadata": {},
   "outputs": [
    {
     "data": {
      "text/plain": [
       "0.8540811474206114"
      ]
     },
     "execution_count": 754,
     "metadata": {},
     "output_type": "execute_result"
    }
   ],
   "source": [
    "#metrics.roc_auc_score(ytr,y_preds)\n",
    "y_preds = model.predict_proba(Xtr)[:,1]\n",
    "metrics.roc_auc_score(ytr,y_preds)"
   ]
  },
  {
   "cell_type": "markdown",
   "metadata": {},
   "source": [
    "### 3.4 Keras"
   ]
  },
  {
   "cell_type": "code",
   "execution_count": 704,
   "metadata": {},
   "outputs": [
    {
     "name": "stdout",
     "output_type": "stream",
     "text": [
      "(7289, 8) (7289,)\n",
      "(3124, 8) (3124,)\n"
     ]
    }
   ],
   "source": [
    "#Create keras Model\n",
    "X_train, X_test, y_train, y_test = train_test_split(Xtr, ytr, test_size=0.30, random_state=11)\n",
    "print(X_train.shape, y_train.shape)\n",
    "print(X_test.shape, y_test.shape)\n",
    "ss = StandardScaler()\n",
    "X_train = ss.fit_transform(X_train)  #the scaler is fit only to the training data\n",
    "X_test = ss.transform(X_test)\n",
    "\n",
    "model = Sequential()\n",
    "\n",
    "input_units = X_train.shape[1] #number of features in training set\n",
    "hidden_units = input_units   #hidden layer has the same number of nodes as input\n",
    "\n",
    "#first input layer\n",
    "model.add(Dense(hidden_units            \n",
    "                ,input_dim=input_units  \n",
    "                ,activation='relu'\n",
    "                #uncomment this to add L2 regularization\n",
    "                #,kernel_regularizer=regularizers.l2(0.0001) \n",
    "               ))\n",
    "\n",
    "\n",
    "#hidden layer (try with and without)\n",
    "node_reduction = 0\n",
    "model.add(Dense(hidden_units - node_reduction          \n",
    "                ,input_dim=input_units  \n",
    "                ,activation='relu'\n",
    "                #,kernel_regularizer=regularizers.l2(0.0001) \n",
    "               ))\n",
    "#model.add(Dropout(0.8))\n",
    "\n",
    "#final layer\n",
    "model.add(Dense(1, activation='sigmoid'))\n",
    "\n",
    "model.compile(loss='binary_crossentropy'\n",
    "              ,optimizer='adam'\n",
    "               #added later (not part of original solution\n",
    "              ,metrics=['binary_accuracy']\n",
    "             )"
   ]
  },
  {
   "cell_type": "code",
   "execution_count": 706,
   "metadata": {},
   "outputs": [
    {
     "name": "stdout",
     "output_type": "stream",
     "text": [
      "Train on 7289 samples, validate on 3124 samples\n",
      "Epoch 1/20\n",
      "7289/7289 [==============================] - 1s 197us/step - loss: 0.7301 - binary_accuracy: 0.6238 - val_loss: 0.3361 - val_binary_accuracy: 0.9494\n",
      "Epoch 2/20\n",
      "7289/7289 [==============================] - 0s 55us/step - loss: 0.2650 - binary_accuracy: 0.9461 - val_loss: 0.2157 - val_binary_accuracy: 0.9494\n",
      "Epoch 3/20\n",
      "7289/7289 [==============================] - 0s 55us/step - loss: 0.2145 - binary_accuracy: 0.9461 - val_loss: 0.1972 - val_binary_accuracy: 0.9494\n",
      "Epoch 4/20\n",
      "7289/7289 [==============================] - 0s 55us/step - loss: 0.2049 - binary_accuracy: 0.9461 - val_loss: 0.1918 - val_binary_accuracy: 0.9494\n",
      "Epoch 5/20\n",
      "7289/7289 [==============================] - 0s 55us/step - loss: 0.2009 - binary_accuracy: 0.9461 - val_loss: 0.1888 - val_binary_accuracy: 0.9494\n",
      "Epoch 6/20\n",
      "7289/7289 [==============================] - 0s 54us/step - loss: 0.1987 - binary_accuracy: 0.9461 - val_loss: 0.1871 - val_binary_accuracy: 0.9494\n",
      "Epoch 7/20\n",
      "7289/7289 [==============================] - 0s 54us/step - loss: 0.1969 - binary_accuracy: 0.9461 - val_loss: 0.1855 - val_binary_accuracy: 0.9494\n",
      "Epoch 8/20\n",
      "7289/7289 [==============================] - 0s 54us/step - loss: 0.1957 - binary_accuracy: 0.9461 - val_loss: 0.1846 - val_binary_accuracy: 0.9494\n",
      "Epoch 9/20\n",
      "7289/7289 [==============================] - 0s 54us/step - loss: 0.1944 - binary_accuracy: 0.9461 - val_loss: 0.1833 - val_binary_accuracy: 0.9494\n",
      "Epoch 10/20\n",
      "7289/7289 [==============================] - 0s 60us/step - loss: 0.1933 - binary_accuracy: 0.9461 - val_loss: 0.1824 - val_binary_accuracy: 0.9494\n",
      "Epoch 11/20\n",
      "7289/7289 [==============================] - 0s 54us/step - loss: 0.1923 - binary_accuracy: 0.9461 - val_loss: 0.1810 - val_binary_accuracy: 0.9494\n",
      "Epoch 12/20\n",
      "7289/7289 [==============================] - 0s 59us/step - loss: 0.1912 - binary_accuracy: 0.9461 - val_loss: 0.1801 - val_binary_accuracy: 0.9494\n",
      "Epoch 13/20\n",
      "7289/7289 [==============================] - 0s 54us/step - loss: 0.1902 - binary_accuracy: 0.9461 - val_loss: 0.1784 - val_binary_accuracy: 0.9494\n",
      "Epoch 14/20\n",
      "7289/7289 [==============================] - 0s 62us/step - loss: 0.1887 - binary_accuracy: 0.9461 - val_loss: 0.1775 - val_binary_accuracy: 0.9494\n",
      "Epoch 15/20\n",
      "7289/7289 [==============================] - 0s 68us/step - loss: 0.1874 - binary_accuracy: 0.9461 - val_loss: 0.1762 - val_binary_accuracy: 0.9494\n",
      "Epoch 16/20\n",
      "7289/7289 [==============================] - 0s 68us/step - loss: 0.1858 - binary_accuracy: 0.9461 - val_loss: 0.1754 - val_binary_accuracy: 0.9494\n",
      "Epoch 17/20\n",
      "7289/7289 [==============================] - 0s 62us/step - loss: 0.1846 - binary_accuracy: 0.9461 - val_loss: 0.1741 - val_binary_accuracy: 0.9494\n",
      "Epoch 18/20\n",
      "7289/7289 [==============================] - 0s 58us/step - loss: 0.1841 - binary_accuracy: 0.9461 - val_loss: 0.1729 - val_binary_accuracy: 0.9494\n",
      "Epoch 19/20\n",
      "7289/7289 [==============================] - 0s 57us/step - loss: 0.1826 - binary_accuracy: 0.9461 - val_loss: 0.1725 - val_binary_accuracy: 0.9494\n",
      "Epoch 20/20\n",
      "7289/7289 [==============================] - 0s 55us/step - loss: 0.1822 - binary_accuracy: 0.9461 - val_loss: 0.1715 - val_binary_accuracy: 0.9494\n"
     ]
    }
   ],
   "source": [
    "#Run Keras model\n",
    "history = model.fit(X_train, y_train, validation_data=(X_test, y_test), \n",
    "               epochs=20, batch_size=None, verbose=1)"
   ]
  },
  {
   "cell_type": "markdown",
   "metadata": {
    "collapsed": true
   },
   "source": [
    "## 4. Kaggle Submission"
   ]
  },
  {
   "cell_type": "code",
   "execution_count": 694,
   "metadata": {},
   "outputs": [],
   "source": [
    "#run model against the kaggle test dataset\n",
    "test_preds = model.predict_proba(Xts)[:,1]"
   ]
  },
  {
   "cell_type": "code",
   "execution_count": 707,
   "metadata": {},
   "outputs": [],
   "source": [
    "#for keras only\n",
    "test_preds = model.predict_proba(Xts)\n",
    "test_preds = test_preds[:,0]"
   ]
  },
  {
   "cell_type": "code",
   "execution_count": 545,
   "metadata": {},
   "outputs": [],
   "source": [
    "#metrics.roc_auc_score(yts,test_preds)"
   ]
  },
  {
   "cell_type": "code",
   "execution_count": 756,
   "metadata": {},
   "outputs": [
    {
     "name": "stdout",
     "output_type": "stream",
     "text": [
      "(116293, 2)\n"
     ]
    }
   ],
   "source": [
    "#generate output file \n",
    "test_preds = model.predict_proba(Xts)[:,1]\n",
    "output_file = pd.DataFrame({'Id':tsw.Id, 'WnvPresent':test_preds})  \n",
    "#output_file.head()\n",
    "csv_name = 'test_csv.csv'\n",
    "output_file.to_csv(csv_name, index=False)\n",
    "print(output_file.shape)"
   ]
  },
  {
   "cell_type": "markdown",
   "metadata": {},
   "source": [
    "## Kaggle Score for Adaboost Model: .72455 \n",
    "\n"
   ]
  },
  {
   "cell_type": "markdown",
   "metadata": {},
   "source": [
    "## 5. Feature Importance"
   ]
  },
  {
   "cell_type": "code",
   "execution_count": 755,
   "metadata": {},
   "outputs": [
    {
     "data": {
      "image/png": "[encoded data removed]",
      "text/plain": [
       "<matplotlib.figure.Figure at 0x1a259eb080>"
      ]
     },
     "metadata": {
      "image/png": {
       "height": 385,
       "width": 380
      }
     },
     "output_type": "display_data"
    }
   ],
   "source": [
    "features = pd.DataFrame(list(zip(Xtr.columns,model.feature_importances_))\n",
    "                        ,columns=['feature','importance']) \n",
    "\n",
    "features.plot(kind='bar', x='feature', y='importance')\n",
    "plt.xticks(rotation = 90)\n",
    "plt.title = 'Model Feature Importance'"
   ]
  },
  {
   "cell_type": "code",
   "execution_count": 742,
   "metadata": {},
   "outputs": [
    {
     "data": {
      "text/html": [
       "<div>\n",
       "<style scoped>\n",
       "    .dataframe tbody tr th:only-of-type {\n",
       "        vertical-align: middle;\n",
       "    }\n",
       "\n",
       "    .dataframe tbody tr th {\n",
       "        vertical-align: top;\n",
       "    }\n",
       "\n",
       "    .dataframe thead th {\n",
       "        text-align: right;\n",
       "    }\n",
       "</style>\n",
       "<table border=\"1\" class=\"dataframe\">\n",
       "  <thead>\n",
       "    <tr style=\"text-align: right;\">\n",
       "      <th></th>\n",
       "      <th>feature</th>\n",
       "      <th>importance</th>\n",
       "    </tr>\n",
       "  </thead>\n",
       "  <tbody>\n",
       "    <tr>\n",
       "      <th>0</th>\n",
       "      <td>Latitude</td>\n",
       "      <td>0.11</td>\n",
       "    </tr>\n",
       "    <tr>\n",
       "      <th>1</th>\n",
       "      <td>Longitude</td>\n",
       "      <td>0.13</td>\n",
       "    </tr>\n",
       "    <tr>\n",
       "      <th>2</th>\n",
       "      <td>Tmax</td>\n",
       "      <td>0.17</td>\n",
       "    </tr>\n",
       "    <tr>\n",
       "      <th>3</th>\n",
       "      <td>CULEX PIPIENS/RESTUANS</td>\n",
       "      <td>0.01</td>\n",
       "    </tr>\n",
       "    <tr>\n",
       "      <th>4</th>\n",
       "      <td>CULEX PIPIENS</td>\n",
       "      <td>0.01</td>\n",
       "    </tr>\n",
       "    <tr>\n",
       "      <th>5</th>\n",
       "      <td>CULEX RESTUANS</td>\n",
       "      <td>0.01</td>\n",
       "    </tr>\n",
       "    <tr>\n",
       "      <th>6</th>\n",
       "      <td>DayOfYear</td>\n",
       "      <td>0.37</td>\n",
       "    </tr>\n",
       "    <tr>\n",
       "      <th>7</th>\n",
       "      <td>WetBulb</td>\n",
       "      <td>0.19</td>\n",
       "    </tr>\n",
       "  </tbody>\n",
       "</table>\n",
       "</div>"
      ],
      "text/plain": [
       "                  feature  importance\n",
       "0                Latitude        0.11\n",
       "1               Longitude        0.13\n",
       "2                    Tmax        0.17\n",
       "3  CULEX PIPIENS/RESTUANS        0.01\n",
       "4           CULEX PIPIENS        0.01\n",
       "5          CULEX RESTUANS        0.01\n",
       "6               DayOfYear        0.37\n",
       "7                 WetBulb        0.19"
      ]
     },
     "execution_count": 742,
     "metadata": {},
     "output_type": "execute_result"
    }
   ],
   "source": [
    "features"
   ]
  },
  {
   "cell_type": "markdown",
   "metadata": {},
   "source": [
    "## 6. Discussion"
   ]
  },
  {
   "cell_type": "markdown",
   "metadata": {
    "collapsed": true
   },
   "source": [
    "The training scores and Kaggle submission scores correlated fairly well, although\n",
    "the Kaggle submission score usually about a tenth of a point lower. This is an indication\n",
    "that model results probably have some validity.\n",
    "\n",
    "The lack of number of mosquitos per trap and spraying data for the test years was a limitation.\n",
    "If this data were present, it could be inlcuded in the model and would likely lead to better\n",
    "results.\n",
    "\n",
    "Day of Year ended up being the best predictor - the interesting question is why. Most likely,\n",
    "it serves as a proxy for cumulative weather conditions. \n",
    "\n",
    "Possible ways of improving the model: include features for cumulative weather conditions; \n",
    "these could include average temperature over the past week, average precipitation over the\n",
    "past week, and number of days without preciptiation.\n"
   ]
  }
 ],
 "metadata": {
  "kernelspec": {
   "display_name": "Python [conda env:tensorflow]",
   "language": "python",
   "name": "conda-env-tensorflow-py"
  },
  "language_info": {
   "codemirror_mode": {
    "name": "ipython",
    "version": 3
   },
   "file_extension": ".py",
   "mimetype": "text/x-python",
   "name": "python",
   "nbconvert_exporter": "python",
   "pygments_lexer": "ipython3",
   "version": "3.6.4"
  }
 },
 "nbformat": 4,
 "nbformat_minor": 2
}
